{
 "cells": [
  {
   "cell_type": "code",
   "execution_count": 1,
   "metadata": {},
   "outputs": [
    {
     "name": "stdout",
     "output_type": "stream",
     "text": [
      "--2024-09-29 14:10:26--  https://raw.githubusercontent.com/sanej/GPTFromScratch/refs/heads/main/datainput.txt\n",
      "Resolving raw.githubusercontent.com (raw.githubusercontent.com)... 2606:50c0:8002::154, 2606:50c0:8000::154, 2606:50c0:8003::154, ...\n",
      "Connecting to raw.githubusercontent.com (raw.githubusercontent.com)|2606:50c0:8002::154|:443... connected.\n",
      "HTTP request sent, awaiting response... 200 OK\n",
      "Length: 162959 (159K) [text/plain]\n",
      "Saving to: 'datainput.txt.1'\n",
      "\n",
      "datainput.txt.1     100%[===================>] 159.14K  --.-KB/s    in 0.02s   \n",
      "\n",
      "2024-09-29 14:10:26 (8.76 MB/s) - 'datainput.txt.1' saved [162959/162959]\n",
      "\n"
     ]
    }
   ],
   "source": [
    "!wget https://raw.githubusercontent.com/sanej/GPTFromScratch/refs/heads/main/datainput.txt"
   ]
  },
  {
   "cell_type": "code",
   "execution_count": 2,
   "metadata": {},
   "outputs": [],
   "source": [
    "# read the above file to inspect it \n",
    "with open('datainput.txt', 'r', encoding='utf-8') as file:\n",
    "    data = file.read()"
   ]
  },
  {
   "cell_type": "code",
   "execution_count": 3,
   "metadata": {},
   "outputs": [
    {
     "name": "stdout",
     "output_type": "stream",
     "text": [
      "lenght of data:  161810\n"
     ]
    }
   ],
   "source": [
    "print(\"lenght of data: \", len(data))    "
   ]
  },
  {
   "cell_type": "code",
   "execution_count": 4,
   "metadata": {},
   "outputs": [
    {
     "name": "stdout",
     "output_type": "stream",
     "text": [
      "\n",
      "The Econuocniist:\n",
      "OR\n",
      "THE POLITICAL, COMMERCIAL, AGRICULTURAL, AND FREE-TRADE JOURNAL.‘If we make ourselves too little for the sphere of our duty;\n",
      "wel assured that everything about us will dwindle by degrees\n",
      "which a great empire must fall by mean reparation upon mighty ruins.” —BURKE.\n",
      "SATURDAY, SEPTEMBER 2, 1843. Price 6\n",
      "—\n",
      "CONTENTS.\n",
      "Expiring Commercial Treaty with the Great Free-Trade Demonstration at Liver-\n",
      "Renewed Commercial Negotiations with Movements of the Anti-Corn-Law League 7\n",
      "\n",
      "“Tf a writer be conscious that to gain a reception for his favourite doctrine he must\n",
      "combat with certain elements of opposition, in the taste, or the pride, or the indo-\n",
      "lence of those whom he is addressing, this will only serve to make him the more\n",
      "There is a difference between such truths as are merely of a speculative\n",
      "With the former ali\n",
      "repetition may be often superfluous ; with the latter it may just be by earnest repeti-\n",
      "tion, that their influence comes to be\n",
      "inquirer.” —CH ALMERS.\n",
      "importunate.\n",
      "nat\n"
     ]
    }
   ],
   "source": [
    "print (data[:1000])"
   ]
  },
  {
   "cell_type": "code",
   "execution_count": 5,
   "metadata": {},
   "outputs": [
    {
     "name": "stdout",
     "output_type": "stream",
     "text": [
      "Vocabulary size: 106\n",
      "\n",
      " !\"%&'()*+,-./0123456789:;<=>?@ABCDEFGHIJKLMNOPQRSTUVWXYZ[\\]_abcdefghijklmnopqrstuvwxyz{|}~¢£¥«°»é—‘’“”€™\n"
     ]
    }
   ],
   "source": [
    "#Listing all the unique characters in the text\n",
    "chars = sorted(list(set(data)))\n",
    "vocab_size = len(chars)\n",
    "print('Vocabulary size:', vocab_size)\n",
    "print(''.join(chars))"
   ]
  },
  {
   "cell_type": "code",
   "execution_count": 18,
   "metadata": {},
   "outputs": [
    {
     "name": "stdout",
     "output_type": "stream",
     "text": [
      "[39, 70, 1, 81, 69, 66, 79, 66]\n",
      "Hi there\n"
     ]
    }
   ],
   "source": [
    "# Create a mapping from character to integers\n",
    "stoi = { ch:i for i, ch in enumerate(chars) }\n",
    "itos = { i: ch for i, ch in enumerate(chars) }\n",
    "\n",
    "encode = lambda x: [stoi[ch] for ch in x] # encoder: take a string and return a list of integers\n",
    "decode = lambda x: ''.join([itos[i] for i in x]) # decoder: take a list of integers and return a string\n",
    "\n",
    "print(encode('Hi there'))\n",
    "print(decode(encode('Hi there')))\n"
   ]
  },
  {
   "cell_type": "code",
   "execution_count": null,
   "metadata": {},
   "outputs": [],
   "source": []
  },
  {
   "cell_type": "code",
   "execution_count": null,
   "metadata": {},
   "outputs": [],
   "source": []
  }
 ],
 "metadata": {
  "kernelspec": {
   "display_name": "base",
   "language": "python",
   "name": "python3"
  },
  "language_info": {
   "codemirror_mode": {
    "name": "ipython",
    "version": 3
   },
   "file_extension": ".py",
   "mimetype": "text/x-python",
   "name": "python",
   "nbconvert_exporter": "python",
   "pygments_lexer": "ipython3",
   "version": "3.9.12"
  }
 },
 "nbformat": 4,
 "nbformat_minor": 2
}
